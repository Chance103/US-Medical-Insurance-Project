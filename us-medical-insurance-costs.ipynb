{
 "cells": [
  {
   "cell_type": "markdown",
   "metadata": {},
   "source": [
    "# U.S. Medical Insurance Costs"
   ]
  },
  {
   "cell_type": "markdown",
   "metadata": {},
   "source": [
    "In this project I will be analyzing the insurance costs of smokers compared to non-smokers from a **CSV** file that includes these six different factors:\n",
    "* _Age_\n",
    "* _Sex_\n",
    "* _Bmi_\n",
    "* _Number of children_\n",
    "* _Whether or not the person is a smoker_\n",
    "* _The region that the person is from_\n",
    "\n",
    "But I will not be needing most of them as I will just be using the _**smoker**_ catagory"
   ]
  }
 ],
 "metadata": {
  "kernelspec": {
   "display_name": "Python 3",
   "language": "python",
   "name": "python3"
  },
  "language_info": {
   "codemirror_mode": {
    "name": "ipython",
    "version": 3
   },
   "file_extension": ".py",
   "mimetype": "text/x-python",
   "name": "python",
   "nbconvert_exporter": "python",
   "pygments_lexer": "ipython3",
   "version": "3.9.7"
  }
 },
 "nbformat": 4,
 "nbformat_minor": 4
}
