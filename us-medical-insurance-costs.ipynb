{
 "cells": [
  {
   "cell_type": "markdown",
   "metadata": {},
   "source": [
    "# U.S. Medical Insurance Costs"
   ]
  },
  {
   "cell_type": "markdown",
   "metadata": {},
   "source": [
    "In this project I will be analyzing the insurance costs of smokers compared to non-smokers from a **CSV** file that includes these six different factors:\n",
    "* _Age_\n",
    "* _Sex_\n",
    "* _Bmi_\n",
    "* _Number of children_\n",
    "* _Whether or not the person is a smoker_\n",
    "* _The region that the person is from_\n",
    "\n",
    "But I will not be needing most of them as I will just be using the _**smoker**_ catagory"
   ]
  },
  {
   "cell_type": "markdown",
   "metadata": {},
   "source": [
    "First I will import the dataset for analysis and get rid of other data that I will not need"
   ]
  },
  {
   "cell_type": "code",
   "execution_count": 1,
   "metadata": {},
   "outputs": [],
   "source": [
    "import csv\n",
    "\n",
    "with open('insurance.csv') as insurance_csv:\n",
    "    insurance_reader = csv.DictReader(insurance_csv)\n",
    "    insurance_list = [row for row in insurance_reader]\n",
    "\n",
    "# This gets rid of the data I don't need\n",
    "smoker_list = [{'smoker': person['smoker'], 'cost': person['charges']} for person in insurance_list]\n",
    "\n",
    "# This converts the word 'Yes' into a 1 and the word 'No' into a 0\n",
    "for smoker in smoker_list:\n",
    "    if smoker['smoker'] == 'yes':\n",
    "        smoker['smoker'] = 1\n",
    "    else:\n",
    "        smoker['smoker'] = 0\n",
    "\n"
   ]
  },
  {
   "cell_type": "markdown",
   "metadata": {},
   "source": [
    "Now I will write a function that will return the average cost for a list of people given if they are a smoker or not."
   ]
  },
  {
   "cell_type": "code",
   "execution_count": 2,
   "metadata": {},
   "outputs": [],
   "source": [
    "def average_cost(people, smoker):\n",
    "    total = 0\n",
    "    count = 0\n",
    "    for person in people:\n",
    "        if person['smoker'] == smoker:\n",
    "            total += float(person['cost'])\n",
    "            count += 1\n",
    "    return total / count"
   ]
  },
  {
   "cell_type": "markdown",
   "metadata": {},
   "source": [
    "Now I'll:\n",
    "1. Get the average cost for the _**non-smokers**_\n",
    "2. Get the average cost for the _**smokers**_\n",
    "3. Print out the difference between them"
   ]
  },
  {
   "cell_type": "code",
   "execution_count": 3,
   "metadata": {},
   "outputs": [
    {
     "data": {
      "text/plain": [
       "'The non-smoker average cost is 8434.268297856199 and the smoker average cost is 32050.23183153285 and the average difference between the non-smokers and the smokers is: 23615.96353367665'"
      ]
     },
     "execution_count": 3,
     "metadata": {},
     "output_type": "execute_result"
    }
   ],
   "source": [
    "# Non-smoker avg:\n",
    "non_smoker_avg = average_cost(smoker_list, 0)\n",
    "# Smoker avg:\n",
    "smoker_avg = average_cost(smoker_list, 1)\n",
    "smoker_avg_diff = smoker_avg - non_smoker_avg\n",
    "\n",
    "\n",
    "'The non-smoker average cost is {} and the smoker average cost is {} and the average difference between the non-smokers and the smokers is: {}'.format(non_smoker_avg, smoker_avg, smoker_avg_diff)"
   ]
  },
  {
   "cell_type": "markdown",
   "metadata": {},
   "source": [
    "So this concludes that the insurance costs for these individuals is on average $23,615.96 cheaper than smokers!"
   ]
  }
 ],
 "metadata": {
  "kernelspec": {
   "display_name": "Python 3",
   "language": "python",
   "name": "python3"
  },
  "language_info": {
   "codemirror_mode": {
    "name": "ipython",
    "version": 3
   },
   "file_extension": ".py",
   "mimetype": "text/x-python",
   "name": "python",
   "nbconvert_exporter": "python",
   "pygments_lexer": "ipython3",
   "version": "3.9.7"
  }
 },
 "nbformat": 4,
 "nbformat_minor": 4
}
