{
 "cells": [
  {
   "cell_type": "markdown",
   "metadata": {},
   "source": [
    "# U.S. Medical Insurance Costs"
   ]
  },
  {
   "cell_type": "markdown",
   "metadata": {},
   "source": [
    "In this project I will be analyzing the insurance costs of smokers compared to non-smokers from a **CSV** file that includes these six different factors:\n",
    "* _Age_\n",
    "* _Sex_\n",
    "* _Bmi_\n",
    "* _Number of children_\n",
    "* _Whether or not the person is a smoker_\n",
    "* _The region that the person is from_\n",
    "\n",
    "But I will not be needing most of them as I will just be using the _**smoker**_ catagory"
   ]
  },
  {
   "cell_type": "markdown",
   "metadata": {},
   "source": [
    "First I will import the dataset for analysis and get rid of other data that I will not need"
   ]
  },
  {
   "cell_type": "code",
   "execution_count": 12,
   "metadata": {},
   "outputs": [],
   "source": [
    "import csv\n",
    "\n",
    "with open('insurance.csv') as insurance_csv:\n",
    "    insurance_reader = csv.DictReader(insurance_csv)\n",
    "    insurance_list = [row for row in insurance_reader]\n",
    "\n",
    "# This gets rid of the data I don't need\n",
    "smoker_list = [{'smoker': person['smoker'], 'cost': person['charges']} for person in insurance_list]"
   ]
  },
  {
   "cell_type": "markdown",
   "metadata": {},
   "source": []
  }
 ],
 "metadata": {
  "kernelspec": {
   "display_name": "Python 3",
   "language": "python",
   "name": "python3"
  },
  "language_info": {
   "codemirror_mode": {
    "name": "ipython",
    "version": 3
   },
   "file_extension": ".py",
   "mimetype": "text/x-python",
   "name": "python",
   "nbconvert_exporter": "python",
   "pygments_lexer": "ipython3",
   "version": "3.9.7"
  }
 },
 "nbformat": 4,
 "nbformat_minor": 4
}
